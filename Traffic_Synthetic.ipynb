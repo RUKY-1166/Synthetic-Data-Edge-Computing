{
 "cells": [
  {
   "cell_type": "code",
   "execution_count": 7,
   "id": "61ef3dfe-eaf5-4c15-addd-ecc1747ae914",
   "metadata": {},
   "outputs": [],
   "source": [
    "import pandas as pd\n",
    "import numpy as np\n",
    "import datetime\n",
    "from datetime import datetime,timedelta\n",
    "from keras.models import Sequential,Model\n",
    "from keras.metrics import MeanSquaredError as mae\n",
    "from keras.layers import LSTM,Dense,Dropout,Input,Conv1D\n",
    "import matplotlib.pyplot as plt\n",
    "from sklearn.preprocessing import MinMaxScaler\n",
    "from sklearn.metrics import mean_squared_error as mse\n",
    "from sklearn.metrics import mean_absolute_error as mae\n",
    "from sklearn.metrics import mean_absolute_percentage_error as mape\n",
    "from sklearn.model_selection import train_test_split\n",
    "from math import sqrt\n",
    "from bokeh.plotting import figure,output_file, show\n",
    "import datetime\n",
    "from tcn import TCN\n",
    "import keras\n",
    "from sklearn.preprocessing import StandardScaler\n",
    "from tcn import tcn_full_summary"
   ]
  },
  {
   "cell_type": "code",
   "execution_count": 9,
   "id": "8197485f-25d1-4c46-9b7d-7efa064827bf",
   "metadata": {},
   "outputs": [],
   "source": [
    "# Generate synthetic data\n",
    "def generate_synthetic_traffic_data(n_rows=48120):\n",
    "    # Start and end time\n",
    "    start_time = datetime.datetime(2015, 11, 1, 0, 0)\n",
    "    time_step = timedelta(hours=1)  # Hourly intervals\n",
    "\n",
    "    # Create datetime column\n",
    "    datetime_column = [start_time + i * time_step for i in range(n_rows)]\n",
    "    \n",
    "    # Generate other columns\n",
    "    junctions = [1, 2, 3, 4]  # Four junctions\n",
    "    junction_column = np.random.choice(junctions, size=n_rows, replace=True)\n",
    "    \n",
    "    vehicles_column = np.random.randint(1, 50, size=n_rows)  # Random vehicle counts\n",
    "    id_column = [f\"{d.year}{d.month:02}{d.day:02}{i:03}\" for i, d in enumerate(datetime_column)]\n",
    "    \n",
    "    # Extract year, month, day, hour, minute\n",
    "    year_column = [d.year for d in datetime_column]\n",
    "    month_column = [d.month for d in datetime_column]\n",
    "    day_column = [d.day for d in datetime_column]\n",
    "    hour_column = [d.hour for d in datetime_column]\n",
    "    minute_column = [d.minute for d in datetime_column]  # Will always be 0 due to hourly intervals\n",
    "\n",
    "    # Combine into a DataFrame\n",
    "    data = pd.DataFrame({\n",
    "        \"DateTime\": datetime_column,\n",
    "        \"Junction\": junction_column,\n",
    "        \"Vehicles\": vehicles_column,\n",
    "        \"ID\": id_column,\n",
    "        \"Year\": year_column,\n",
    "        \"Month\": month_column,\n",
    "        \"Day\": day_column,\n",
    "        \"Hour\": hour_column,\n",
    "        \"Minute\": minute_column\n",
    "    })\n",
    "    \n",
    "    return data"
   ]
  },
  {
   "cell_type": "code",
   "execution_count": 11,
   "id": "bca5913a-2c19-45a8-8766-4ae62b346dbd",
   "metadata": {},
   "outputs": [
    {
     "name": "stdout",
     "output_type": "stream",
     "text": [
      "Synthetic traffic dataset created and saved as 'synthetic_traffic_data.csv'.\n"
     ]
    }
   ],
   "source": [
    "# Generate synthetic data and save it\n",
    "synthetic_data = generate_synthetic_traffic_data()\n",
    "synthetic_data.to_csv(\"synthetic_traffic_data.csv\", index=False)\n",
    "print(\"Synthetic traffic dataset created and saved as 'synthetic_traffic_data.csv'.\")"
   ]
  },
  {
   "cell_type": "code",
   "execution_count": 13,
   "id": "74371fe6-c982-4ffc-b191-27047da0272d",
   "metadata": {
    "scrolled": true
   },
   "outputs": [
    {
     "data": {
      "text/html": [
       "<div>\n",
       "<style scoped>\n",
       "    .dataframe tbody tr th:only-of-type {\n",
       "        vertical-align: middle;\n",
       "    }\n",
       "\n",
       "    .dataframe tbody tr th {\n",
       "        vertical-align: top;\n",
       "    }\n",
       "\n",
       "    .dataframe thead th {\n",
       "        text-align: right;\n",
       "    }\n",
       "</style>\n",
       "<table border=\"1\" class=\"dataframe\">\n",
       "  <thead>\n",
       "    <tr style=\"text-align: right;\">\n",
       "      <th></th>\n",
       "      <th>DateTime</th>\n",
       "      <th>Junction</th>\n",
       "      <th>Vehicles</th>\n",
       "      <th>ID</th>\n",
       "      <th>Year</th>\n",
       "      <th>Month</th>\n",
       "      <th>Day</th>\n",
       "      <th>Hour</th>\n",
       "      <th>Minute</th>\n",
       "    </tr>\n",
       "  </thead>\n",
       "  <tbody>\n",
       "    <tr>\n",
       "      <th>0</th>\n",
       "      <td>2015-11-01 00:00:00</td>\n",
       "      <td>4</td>\n",
       "      <td>45</td>\n",
       "      <td>20151101000</td>\n",
       "      <td>2015</td>\n",
       "      <td>11</td>\n",
       "      <td>1</td>\n",
       "      <td>0</td>\n",
       "      <td>0</td>\n",
       "    </tr>\n",
       "    <tr>\n",
       "      <th>1</th>\n",
       "      <td>2015-11-01 01:00:00</td>\n",
       "      <td>1</td>\n",
       "      <td>22</td>\n",
       "      <td>20151101001</td>\n",
       "      <td>2015</td>\n",
       "      <td>11</td>\n",
       "      <td>1</td>\n",
       "      <td>1</td>\n",
       "      <td>0</td>\n",
       "    </tr>\n",
       "    <tr>\n",
       "      <th>2</th>\n",
       "      <td>2015-11-01 02:00:00</td>\n",
       "      <td>2</td>\n",
       "      <td>27</td>\n",
       "      <td>20151101002</td>\n",
       "      <td>2015</td>\n",
       "      <td>11</td>\n",
       "      <td>1</td>\n",
       "      <td>2</td>\n",
       "      <td>0</td>\n",
       "    </tr>\n",
       "    <tr>\n",
       "      <th>3</th>\n",
       "      <td>2015-11-01 03:00:00</td>\n",
       "      <td>1</td>\n",
       "      <td>43</td>\n",
       "      <td>20151101003</td>\n",
       "      <td>2015</td>\n",
       "      <td>11</td>\n",
       "      <td>1</td>\n",
       "      <td>3</td>\n",
       "      <td>0</td>\n",
       "    </tr>\n",
       "    <tr>\n",
       "      <th>4</th>\n",
       "      <td>2015-11-01 04:00:00</td>\n",
       "      <td>3</td>\n",
       "      <td>29</td>\n",
       "      <td>20151101004</td>\n",
       "      <td>2015</td>\n",
       "      <td>11</td>\n",
       "      <td>1</td>\n",
       "      <td>4</td>\n",
       "      <td>0</td>\n",
       "    </tr>\n",
       "  </tbody>\n",
       "</table>\n",
       "</div>"
      ],
      "text/plain": [
       "              DateTime  Junction  Vehicles           ID  Year  Month  Day  \\\n",
       "0  2015-11-01 00:00:00         4        45  20151101000  2015     11    1   \n",
       "1  2015-11-01 01:00:00         1        22  20151101001  2015     11    1   \n",
       "2  2015-11-01 02:00:00         2        27  20151101002  2015     11    1   \n",
       "3  2015-11-01 03:00:00         1        43  20151101003  2015     11    1   \n",
       "4  2015-11-01 04:00:00         3        29  20151101004  2015     11    1   \n",
       "\n",
       "   Hour  Minute  \n",
       "0     0       0  \n",
       "1     1       0  \n",
       "2     2       0  \n",
       "3     3       0  \n",
       "4     4       0  "
      ]
     },
     "execution_count": 13,
     "metadata": {},
     "output_type": "execute_result"
    }
   ],
   "source": [
    "df = pd.read_csv(\"synthetic_traffic_data.csv\")\n",
    "df.head()"
   ]
  },
  {
   "cell_type": "code",
   "execution_count": 15,
   "id": "1ab2a478-68c1-4ec3-ae20-92629a072c4a",
   "metadata": {},
   "outputs": [
    {
     "name": "stdout",
     "output_type": "stream",
     "text": [
      "WARNING:tensorflow:From D:\\Anaconda\\Lib\\site-packages\\keras\\src\\backend\\tensorflow\\core.py:222: The name tf.placeholder is deprecated. Please use tf.compat.v1.placeholder instead.\n",
      "\n"
     ]
    },
    {
     "data": {
      "text/html": [
       "<pre style=\"white-space:pre;overflow-x:auto;line-height:normal;font-family:Menlo,'DejaVu Sans Mono',consolas,'Courier New',monospace\"><span style=\"font-weight: bold\">Model: \"functional\"</span>\n",
       "</pre>\n"
      ],
      "text/plain": [
       "\u001b[1mModel: \"functional\"\u001b[0m\n"
      ]
     },
     "metadata": {},
     "output_type": "display_data"
    },
    {
     "data": {
      "text/html": [
       "<pre style=\"white-space:pre;overflow-x:auto;line-height:normal;font-family:Menlo,'DejaVu Sans Mono',consolas,'Courier New',monospace\">┏━━━━━━━━━━━━━━━━━━━━━━━━━━━━━━━━━┳━━━━━━━━━━━━━━━━━━━━━━━━┳━━━━━━━━━━━━━━━┓\n",
       "┃<span style=\"font-weight: bold\"> Layer (type)                    </span>┃<span style=\"font-weight: bold\"> Output Shape           </span>┃<span style=\"font-weight: bold\">       Param # </span>┃\n",
       "┡━━━━━━━━━━━━━━━━━━━━━━━━━━━━━━━━━╇━━━━━━━━━━━━━━━━━━━━━━━━╇━━━━━━━━━━━━━━━┩\n",
       "│ input1 (<span style=\"color: #0087ff; text-decoration-color: #0087ff\">InputLayer</span>)             │ (<span style=\"color: #00d7ff; text-decoration-color: #00d7ff\">None</span>, <span style=\"color: #00af00; text-decoration-color: #00af00\">24</span>, <span style=\"color: #00af00; text-decoration-color: #00af00\">1</span>)          │             <span style=\"color: #00af00; text-decoration-color: #00af00\">0</span> │\n",
       "├─────────────────────────────────┼────────────────────────┼───────────────┤\n",
       "│ tcn (<span style=\"color: #0087ff; text-decoration-color: #0087ff\">TCN</span>)                       │ (<span style=\"color: #00d7ff; text-decoration-color: #00d7ff\">None</span>, <span style=\"color: #00af00; text-decoration-color: #00af00\">12</span>)             │         <span style=\"color: #00af00; text-decoration-color: #00af00\">4,068</span> │\n",
       "├─────────────────────────────────┼────────────────────────┼───────────────┤\n",
       "│ output (<span style=\"color: #0087ff; text-decoration-color: #0087ff\">Dense</span>)                  │ (<span style=\"color: #00d7ff; text-decoration-color: #00d7ff\">None</span>, <span style=\"color: #00af00; text-decoration-color: #00af00\">1</span>)              │            <span style=\"color: #00af00; text-decoration-color: #00af00\">13</span> │\n",
       "└─────────────────────────────────┴────────────────────────┴───────────────┘\n",
       "</pre>\n"
      ],
      "text/plain": [
       "┏━━━━━━━━━━━━━━━━━━━━━━━━━━━━━━━━━┳━━━━━━━━━━━━━━━━━━━━━━━━┳━━━━━━━━━━━━━━━┓\n",
       "┃\u001b[1m \u001b[0m\u001b[1mLayer (type)                   \u001b[0m\u001b[1m \u001b[0m┃\u001b[1m \u001b[0m\u001b[1mOutput Shape          \u001b[0m\u001b[1m \u001b[0m┃\u001b[1m \u001b[0m\u001b[1m      Param #\u001b[0m\u001b[1m \u001b[0m┃\n",
       "┡━━━━━━━━━━━━━━━━━━━━━━━━━━━━━━━━━╇━━━━━━━━━━━━━━━━━━━━━━━━╇━━━━━━━━━━━━━━━┩\n",
       "│ input1 (\u001b[38;5;33mInputLayer\u001b[0m)             │ (\u001b[38;5;45mNone\u001b[0m, \u001b[38;5;34m24\u001b[0m, \u001b[38;5;34m1\u001b[0m)          │             \u001b[38;5;34m0\u001b[0m │\n",
       "├─────────────────────────────────┼────────────────────────┼───────────────┤\n",
       "│ tcn (\u001b[38;5;33mTCN\u001b[0m)                       │ (\u001b[38;5;45mNone\u001b[0m, \u001b[38;5;34m12\u001b[0m)             │         \u001b[38;5;34m4,068\u001b[0m │\n",
       "├─────────────────────────────────┼────────────────────────┼───────────────┤\n",
       "│ output (\u001b[38;5;33mDense\u001b[0m)                  │ (\u001b[38;5;45mNone\u001b[0m, \u001b[38;5;34m1\u001b[0m)              │            \u001b[38;5;34m13\u001b[0m │\n",
       "└─────────────────────────────────┴────────────────────────┴───────────────┘\n"
      ]
     },
     "metadata": {},
     "output_type": "display_data"
    },
    {
     "data": {
      "text/html": [
       "<pre style=\"white-space:pre;overflow-x:auto;line-height:normal;font-family:Menlo,'DejaVu Sans Mono',consolas,'Courier New',monospace\"><span style=\"font-weight: bold\"> Total params: </span><span style=\"color: #00af00; text-decoration-color: #00af00\">4,081</span> (15.94 KB)\n",
       "</pre>\n"
      ],
      "text/plain": [
       "\u001b[1m Total params: \u001b[0m\u001b[38;5;34m4,081\u001b[0m (15.94 KB)\n"
      ]
     },
     "metadata": {},
     "output_type": "display_data"
    },
    {
     "data": {
      "text/html": [
       "<pre style=\"white-space:pre;overflow-x:auto;line-height:normal;font-family:Menlo,'DejaVu Sans Mono',consolas,'Courier New',monospace\"><span style=\"font-weight: bold\"> Trainable params: </span><span style=\"color: #00af00; text-decoration-color: #00af00\">4,081</span> (15.94 KB)\n",
       "</pre>\n"
      ],
      "text/plain": [
       "\u001b[1m Trainable params: \u001b[0m\u001b[38;5;34m4,081\u001b[0m (15.94 KB)\n"
      ]
     },
     "metadata": {},
     "output_type": "display_data"
    },
    {
     "data": {
      "text/html": [
       "<pre style=\"white-space:pre;overflow-x:auto;line-height:normal;font-family:Menlo,'DejaVu Sans Mono',consolas,'Courier New',monospace\"><span style=\"font-weight: bold\"> Non-trainable params: </span><span style=\"color: #00af00; text-decoration-color: #00af00\">0</span> (0.00 B)\n",
       "</pre>\n"
      ],
      "text/plain": [
       "\u001b[1m Non-trainable params: \u001b[0m\u001b[38;5;34m0\u001b[0m (0.00 B)\n"
      ]
     },
     "metadata": {},
     "output_type": "display_data"
    },
    {
     "name": "stdout",
     "output_type": "stream",
     "text": [
      "Epoch 1/50\n",
      "914/914 - 12s - 13ms/step - loss: 0.1011 - val_loss: 0.0908\n",
      "Epoch 2/50\n",
      "914/914 - 7s - 7ms/step - loss: 0.0900 - val_loss: 0.0875\n",
      "Epoch 3/50\n",
      "914/914 - 7s - 8ms/step - loss: 0.0884 - val_loss: 0.0874\n",
      "Epoch 4/50\n",
      "914/914 - 7s - 7ms/step - loss: 0.0880 - val_loss: 0.0878\n",
      "Epoch 5/50\n",
      "914/914 - 7s - 8ms/step - loss: 0.0877 - val_loss: 0.0874\n",
      "Epoch 6/50\n",
      "914/914 - 8s - 9ms/step - loss: 0.0874 - val_loss: 0.0870\n",
      "Epoch 7/50\n",
      "914/914 - 8s - 8ms/step - loss: 0.0875 - val_loss: 0.0869\n",
      "Epoch 8/50\n",
      "914/914 - 7s - 8ms/step - loss: 0.0873 - val_loss: 0.0869\n",
      "Epoch 9/50\n",
      "914/914 - 8s - 8ms/step - loss: 0.0874 - val_loss: 0.0874\n",
      "Epoch 10/50\n",
      "914/914 - 8s - 9ms/step - loss: 0.0871 - val_loss: 0.0875\n",
      "Epoch 11/50\n",
      "914/914 - 8s - 8ms/step - loss: 0.0872 - val_loss: 0.0867\n",
      "Epoch 12/50\n",
      "914/914 - 8s - 9ms/step - loss: 0.0870 - val_loss: 0.0869\n",
      "Epoch 13/50\n",
      "914/914 - 8s - 8ms/step - loss: 0.0870 - val_loss: 0.0868\n",
      "Epoch 14/50\n",
      "914/914 - 8s - 8ms/step - loss: 0.0869 - val_loss: 0.0882\n",
      "Epoch 15/50\n",
      "914/914 - 8s - 8ms/step - loss: 0.0869 - val_loss: 0.0869\n",
      "Epoch 16/50\n",
      "914/914 - 9s - 10ms/step - loss: 0.0869 - val_loss: 0.0871\n",
      "Epoch 17/50\n",
      "914/914 - 8s - 8ms/step - loss: 0.0869 - val_loss: 0.0866\n",
      "Epoch 18/50\n",
      "914/914 - 8s - 9ms/step - loss: 0.0868 - val_loss: 0.0869\n",
      "Epoch 19/50\n",
      "914/914 - 7s - 8ms/step - loss: 0.0868 - val_loss: 0.0874\n",
      "Epoch 20/50\n",
      "914/914 - 8s - 9ms/step - loss: 0.0867 - val_loss: 0.0870\n",
      "Epoch 21/50\n",
      "914/914 - 8s - 8ms/step - loss: 0.0867 - val_loss: 0.0871\n",
      "Epoch 22/50\n",
      "914/914 - 8s - 8ms/step - loss: 0.0867 - val_loss: 0.0866\n",
      "Epoch 23/50\n",
      "914/914 - 8s - 8ms/step - loss: 0.0866 - val_loss: 0.0867\n",
      "Epoch 24/50\n",
      "914/914 - 8s - 8ms/step - loss: 0.0866 - val_loss: 0.0868\n",
      "Epoch 25/50\n",
      "914/914 - 8s - 8ms/step - loss: 0.0865 - val_loss: 0.0868\n",
      "Epoch 26/50\n",
      "914/914 - 8s - 9ms/step - loss: 0.0864 - val_loss: 0.0869\n",
      "Epoch 27/50\n",
      "914/914 - 8s - 9ms/step - loss: 0.0864 - val_loss: 0.0873\n",
      "Epoch 28/50\n",
      "914/914 - 8s - 9ms/step - loss: 0.0864 - val_loss: 0.0868\n",
      "Epoch 29/50\n",
      "914/914 - 8s - 9ms/step - loss: 0.0865 - val_loss: 0.0871\n",
      "Epoch 30/50\n",
      "914/914 - 8s - 9ms/step - loss: 0.0863 - val_loss: 0.0874\n",
      "Epoch 31/50\n",
      "914/914 - 8s - 9ms/step - loss: 0.0863 - val_loss: 0.0872\n",
      "Epoch 32/50\n",
      "914/914 - 8s - 9ms/step - loss: 0.0862 - val_loss: 0.0871\n",
      "Epoch 33/50\n",
      "914/914 - 8s - 9ms/step - loss: 0.0861 - val_loss: 0.0870\n",
      "Epoch 34/50\n",
      "914/914 - 8s - 9ms/step - loss: 0.0860 - val_loss: 0.0872\n",
      "Epoch 35/50\n",
      "914/914 - 8s - 9ms/step - loss: 0.0860 - val_loss: 0.0871\n",
      "Epoch 36/50\n",
      "914/914 - 9s - 10ms/step - loss: 0.0859 - val_loss: 0.0872\n",
      "Epoch 37/50\n",
      "914/914 - 8s - 9ms/step - loss: 0.0858 - val_loss: 0.0873\n",
      "Epoch 38/50\n",
      "914/914 - 9s - 9ms/step - loss: 0.0856 - val_loss: 0.0877\n",
      "Epoch 39/50\n",
      "914/914 - 8s - 9ms/step - loss: 0.0855 - val_loss: 0.0873\n",
      "Epoch 40/50\n",
      "914/914 - 9s - 10ms/step - loss: 0.0854 - val_loss: 0.0883\n",
      "Epoch 41/50\n",
      "914/914 - 8s - 9ms/step - loss: 0.0852 - val_loss: 0.0884\n",
      "Epoch 42/50\n",
      "914/914 - 8s - 9ms/step - loss: 0.0852 - val_loss: 0.0877\n",
      "Epoch 43/50\n",
      "914/914 - 8s - 9ms/step - loss: 0.0850 - val_loss: 0.0881\n",
      "Epoch 44/50\n",
      "914/914 - 9s - 10ms/step - loss: 0.0848 - val_loss: 0.0876\n",
      "Epoch 45/50\n",
      "914/914 - 9s - 10ms/step - loss: 0.0848 - val_loss: 0.0880\n",
      "Epoch 46/50\n",
      "914/914 - 9s - 10ms/step - loss: 0.0847 - val_loss: 0.0890\n",
      "Epoch 47/50\n",
      "914/914 - 9s - 10ms/step - loss: 0.0846 - val_loss: 0.0889\n",
      "Epoch 48/50\n",
      "914/914 - 9s - 10ms/step - loss: 0.0845 - val_loss: 0.0887\n",
      "Epoch 49/50\n",
      "914/914 - 8s - 9ms/step - loss: 0.0843 - val_loss: 0.0896\n",
      "Epoch 50/50\n",
      "914/914 - 9s - 10ms/step - loss: 0.0842 - val_loss: 0.0890\n"
     ]
    },
    {
     "data": {
      "image/png": "[encoded data removed]",
      "text/plain": [
       "<Figure size 640x480 with 1 Axes>"
      ]
     },
     "metadata": {},
     "output_type": "display_data"
    },
    {
     "name": "stdout",
     "output_type": "stream",
     "text": [
      "\u001b[1m301/301\u001b[0m \u001b[32m━━━━━━━━━━━━━━━━━━━━\u001b[0m\u001b[37m\u001b[0m \u001b[1m2s\u001b[0m 5ms/step\n",
      "Mean Absolute Error: 12.465341544845248\n",
      "Root Mean Squared Error: 14.415310936325927\n",
      "Mean Absolute Percentage Error: 0.5043327590398987\n"
     ]
    }
   ],
   "source": [
    "# Assuming `df` is your traffic data DataFrame\n",
    "cols = list(df)[2]  # Select the relevant column\n",
    "training_data = df[cols].astype(float).values.reshape(-1, 1)  # Ensure data is numeric and reshape\n",
    "\n",
    "# Normalize data\n",
    "scaler = MinMaxScaler(feature_range=(0, 1))\n",
    "training_scaled = scaler.fit_transform(training_data)\n",
    "\n",
    "# Function to create sequences for time series\n",
    "def split_sequences(sequences, n_steps):\n",
    "    X, y = [], []\n",
    "    for i in range(len(sequences)):\n",
    "        end_ix = i + n_steps\n",
    "        if end_ix >= len(sequences):\n",
    "            break\n",
    "        seq_x, seq_y = sequences[i:end_ix], sequences[end_ix]\n",
    "        X.append(seq_x)\n",
    "        y.append(seq_y)\n",
    "    return np.array(X), np.array(y)\n",
    "\n",
    "# Create sequences\n",
    "n_steps = 24  # Using 24 hours as the step\n",
    "X, Y = split_sequences(training_scaled, n_steps)\n",
    "\n",
    "# Split into training and testing sets\n",
    "t_d = len(training_scaled) // 5  # Define the test size\n",
    "train_X, test_X, train_Y, test_Y = train_test_split(X, Y, test_size=t_d / len(training_scaled), random_state=42)\n",
    "\n",
    "# Reshape test_Y for compatibility\n",
    "test_Y = test_Y.reshape(test_Y.shape[0], 1)\n",
    "\n",
    "# Define the TCN model\n",
    "input1 = Input(shape=(n_steps, 1), name='input1')\n",
    "tcn1 = TCN(\n",
    "    nb_filters=12,\n",
    "    kernel_size=3,\n",
    "    nb_stacks=1,\n",
    "    dilations=(1, 2, 4, 8, 16),\n",
    "    padding='causal',\n",
    "    use_skip_connections=True,\n",
    "    activation='relu'\n",
    ")(input1)\n",
    "output = Dense(1, activation='relu', name='output')(tcn1)\n",
    "model = Model(inputs=input1, outputs=output)\n",
    "\n",
    "# Compile the model\n",
    "model.compile(optimizer=\"adam\", loss=\"mse\")\n",
    "model.summary()\n",
    "\n",
    "# Train the model\n",
    "history = model.fit(train_X, train_Y, epochs=50, validation_split=0.24, verbose=2)\n",
    "\n",
    "# Plot training history\n",
    "plt.plot(history.history[\"loss\"], color='green', label='Training Loss')\n",
    "plt.plot(history.history[\"val_loss\"], color='blue', label='Validation Loss')\n",
    "plt.title('Model Loss')\n",
    "plt.ylabel('Loss')\n",
    "plt.xlabel('Epoch')\n",
    "plt.legend()\n",
    "plt.show()\n",
    "\n",
    "# Predict and inverse transform predictions\n",
    "y_predict_scaled = model.predict(test_X)\n",
    "y_predict = scaler.inverse_transform(y_predict_scaled)\n",
    "test_Y = scaler.inverse_transform(test_Y)\n",
    "\n",
    "# Evaluate the model\n",
    "print(\"Mean Absolute Error:\", mae(y_predict, test_Y))\n",
    "print(\"Root Mean Squared Error:\", sqrt(mse(y_predict, test_Y)))\n",
    "print(\"Mean Absolute Percentage Error:\", mape(y_predict, test_Y))\n",
    "\n",
    "# Convert predictions to list for further analysis\n",
    "predict = list(y_predict)"
   ]
  }
 ],
 "metadata": {
  "kernelspec": {
   "display_name": "Python 3 (ipykernel)",
   "language": "python",
   "name": "python3"
  },
  "language_info": {
   "codemirror_mode": {
    "name": "ipython",
    "version": 3
   },
   "file_extension": ".py",
   "mimetype": "text/x-python",
   "name": "python",
   "nbconvert_exporter": "python",
   "pygments_lexer": "ipython3",
   "version": "3.12.7"
  }
 },
 "nbformat": 4,
 "nbformat_minor": 5
}
